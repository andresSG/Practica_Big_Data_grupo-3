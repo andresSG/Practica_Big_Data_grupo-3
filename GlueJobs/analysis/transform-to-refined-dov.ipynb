{
	"metadata": {
		"kernelspec": {
			"name": "glue_pyspark",
			"display_name": "Glue PySpark",
			"language": "python"
		},
		"language_info": {
			"name": "Python_Glue_Session",
			"mimetype": "text/x-python",
			"codemirror_mode": {
				"name": "python",
				"version": 3
			},
			"pygments_lexer": "python3",
			"file_extension": ".py"
		}
	},
	"nbformat_minor": 4,
	"nbformat": 4,
	"cells": [
		{
			"cell_type": "markdown",
			"source": "# Estudio de los datos en el curated stage\n### Ayuda al desarrollo de la etl\n",
			"metadata": {
				"editable": true,
				"trusted": true
			}
		},
		{
			"cell_type": "markdown",
			"source": "####  Run this cell to set up and start your interactive session.\n",
			"metadata": {
				"editable": true,
				"trusted": true
			}
		},
		{
			"cell_type": "code",
			"source": "%idle_timeout 2880\n%glue_version 3.0\n%worker_type G.1X\n%number_of_workers 5\n\nimport sys\nfrom awsglue.transforms import *\nfrom awsglue.utils import getResolvedOptions\nfrom pyspark.context import SparkContext\nfrom awsglue.context import GlueContext\nfrom awsglue.job import Job\nfrom pyspark.sql.functions import *\n  \nsc = SparkContext.getOrCreate()\nglueContext = GlueContext(sc)\nspark = glueContext.spark_session\njob = Job(glueContext)",
			"metadata": {
				"editable": true,
				"trusted": true
			},
			"execution_count": 1,
			"outputs": [
				{
					"name": "stdout",
					"text": "Welcome to the Glue Interactive Sessions Kernel\nFor more information on available magic commands, please type %help in any new cell.\n\nPlease view our Getting Started page to access the most up-to-date information on the Interactive Sessions kernel: https://docs.aws.amazon.com/glue/latest/dg/interactive-sessions.html\nInstalled kernel version: 0.37.0 \nCurrent idle_timeout is 2800 minutes.\nidle_timeout has been set to 2880 minutes.\nSetting Glue version to: 3.0\nPrevious worker type: G.1X\nSetting new worker type to: G.1X\nPrevious number of workers: 5\nSetting new number of workers to: 5\nAuthenticating with environment variables and user-defined glue_role_arn: arn:aws:iam::114652167878:role/AWSGlueAndS3RoleGrupo2\nTrying to create a Glue session for the kernel.\nWorker Type: G.1X\nNumber of Workers: 5\nSession ID: 29303e97-db50-4e33-aad1-030c368b864c\nJob Type: glueetl\nApplying the following default arguments:\n--glue_kernel_version 0.37.0\n--enable-glue-datacatalog true\nWaiting for session 29303e97-db50-4e33-aad1-030c368b864c to get into ready status...\nSession 29303e97-db50-4e33-aad1-030c368b864c has been created.\n\n",
					"output_type": "stream"
				}
			]
		},
		{
			"cell_type": "markdown",
			"source": "### Extract data",
			"metadata": {}
		},
		{
			"cell_type": "code",
			"source": "df_dim_users = (\n    spark.read\n    .format(\"parquet\")\n    .load(\"s3://pr2-grupo3-rodaan-curated-layer/data/dim_users/\")\n)\ndf_dim_users.show()",
			"metadata": {
				"trusted": true
			},
			"execution_count": 2,
			"outputs": [
				{
					"name": "stdout",
					"text": "+-----------+------+----+------------------+------------+--------------------+-------------+\n|        #id|gender| age|           country|  registered|        country_name|register_date|\n+-----------+------+----+------------------+------------+--------------------+-------------+\n|user_000001|     m|null|             Japan|Aug 13, 2006|               Japan|   2006-08-13|\n|user_000002|     f|null|              Peru|Feb 24, 2006|                Peru|   2006-02-24|\n|user_000003|     m|  22|     United States|Oct 30, 2005|United States of ...|   2005-10-30|\n|user_000004|     f|null|              null|Apr 26, 2006|                null|   2006-04-26|\n|user_000005|     m|null|          Bulgaria|Jun 29, 2006|            Bulgaria|   2006-06-29|\n|user_000006|  null|  24|Russian Federation|May 18, 2006|              Russia|   2006-05-18|\n|user_000007|     f|null|     United States|Jan 22, 2006|United States of ...|   2006-01-22|\n|user_000008|     m|  23|          Slovakia|Sep 28, 2006|            Slovakia|   2006-09-28|\n|user_000009|     f|  19|     United States|Jan 13, 2007|United States of ...|   2007-01-13|\n|user_000010|     m|  19|            Poland| May 4, 2006|              Poland|   2006-05-04|\n|user_000011|     m|  21|           Finland| Sep 8, 2005|             Finland|   2005-09-08|\n|user_000012|     f|  28|     United States|Mar 30, 2005|United States of ...|   2005-03-30|\n|user_000013|     f|  25|           Romania|Sep 25, 2006|             Romania|   2006-09-25|\n|user_000014|  null|null|              null|Jan 27, 2006|                null|   2006-01-27|\n|user_000015|  null|  21|     Cote D'Ivoire| Oct 3, 2006|       Cote D'Ivoire|   2006-10-03|\n|user_000016|     m|null|    United Kingdom| Aug 5, 2005|      United Kingdom|   2005-08-05|\n|user_000017|     m|  22|           Morocco|Aug 27, 2007|             Morocco|   2007-08-27|\n|user_000018|  null|  22|    United Kingdom|Aug 26, 2005|      United Kingdom|   2005-08-26|\n|user_000019|     f|  29|            Mexico|Nov 10, 2005|              Mexico|   2005-11-10|\n|user_000020|     f|  27|           Germany|Jul 24, 2006|             Germany|   2006-07-24|\n+-----------+------+----+------------------+------------+--------------------+-------------+\nonly showing top 20 rows\n",
					"output_type": "stream"
				}
			]
		},
		{
			"cell_type": "code",
			"source": "df_dim_countries = (\n    spark.read\n    .format(\"parquet\")\n    .load(\"s3://pr2-grupo3-rodaan-curated-layer/data/dim_countries/\")\n)\ndf_dim_countries.show()",
			"metadata": {
				"trusted": true
			},
			"execution_count": 13,
			"outputs": [
				{
					"name": "stdout",
					"text": "+--------------------+--------------------+-------------------+--------------------+\n|                pais|             country|         continente|           continent|\n+--------------------+--------------------+-------------------+--------------------+\n|             Albania|             Albania|             Europa|              Europe|\n|            Alemania|             Germany|             Europa|              Europe|\n|            Barbados|            Barbados|            América|             America|\n|            Bulgaria|            Bulgaria|             Europa|              Europe|\n|             Burundi|             Burundi|             África|              Africa|\n|             Camerún|            Cameroon|             África|              Africa|\n|Emiratos Árabes U...|United Arab Emirates|               Asia|                Asia|\n|    Guayana Francesa|       French Guiana|            América|             America|\n|       Guinea-Bissau|       Guinea-Bissau|             África|              Africa|\n|               Haití|               Haiti|            América|             America|\n|         Isla de Man|         Isle of Man|             Europa|              Europe|\n|      Islas Bermudas|     Bermuda Islands|            América|             America|\n|Islas Ultramarina...|United States Min...|     Sin continente|   Without continent|\n|             Letonia|              Latvia|             Europa|              Europe|\n|               Malta|               Malta|             Europa|              Europe|\n|           Nicaragua|           Nicaragua|            América|             America|\n|         Reino Unido|      United Kingdom|             Europa|              Europe|\n|     Samoa Americana|      American Samoa|Australia y Oceanía|Australia and Oce...|\n|San Martín (Francia)|Saint Martin (Fre...|            América|             America|\n|           Sudáfrica|        South Africa|             África|              Africa|\n+--------------------+--------------------+-------------------+--------------------+\nonly showing top 20 rows\n",
					"output_type": "stream"
				}
			]
		},
		{
			"cell_type": "code",
			"source": "df_dim_horoscopes = (\n    spark.read\n    .format(\"parquet\")\n    .load(\"s3://pr2-grupo3-rodaan-curated-layer/data/dim_horoscopes/\")\n)\ndf_dim_horoscopes.show()",
			"metadata": {
				"trusted": true
			},
			"execution_count": 4,
			"outputs": [
				{
					"name": "stdout",
					"text": "+---------+------+---+-----+\n|Horoscope|  Date|Day|Month|\n+---------+------+---+-----+\n|Capricorn| 1-Jan|  1|    1|\n|Capricorn| 2-Jan|  2|    1|\n|Capricorn| 3-Jan|  3|    1|\n|Capricorn| 4-Jan|  4|    1|\n|Capricorn| 5-Jan|  5|    1|\n|Capricorn| 6-Jan|  6|    1|\n|Capricorn| 7-Jan|  7|    1|\n|Capricorn| 8-Jan|  8|    1|\n|Capricorn| 9-Jan|  9|    1|\n|Capricorn|10-Jan| 10|    1|\n|Capricorn|11-Jan| 11|    1|\n|Capricorn|12-Jan| 12|    1|\n|Capricorn|13-Jan| 13|    1|\n|Capricorn|14-Jan| 14|    1|\n|Capricorn|15-Jan| 15|    1|\n|Capricorn|16-Jan| 16|    1|\n|Capricorn|17-Jan| 17|    1|\n|Capricorn|18-Jan| 18|    1|\n|Capricorn|19-Jan| 19|    1|\n| Aquarius|20-Jan| 20|    1|\n+---------+------+---+-----+\nonly showing top 20 rows\n",
					"output_type": "stream"
				}
			]
		},
		{
			"cell_type": "code",
			"source": "df_dim_facts = (\n    spark.read\n    .format(\"parquet\")\n    .load(\"s3://pr2-grupo3-rodaan-curated-layer/data/facts_user/\")\n)\ndf_dim_facts.show(truncate=False)",
			"metadata": {
				"trusted": true
			},
			"execution_count": 6,
			"outputs": [
				{
					"name": "stdout",
					"text": "+--------------------+------------------------------------+------------------------+------------------------------------+-------------------------------+-------------------+-----------+\n|fact_date           |group_id                            |group_name              |song_id                             |song_name                      |fact_timestamp     |user_id    |\n+--------------------+------------------------------------+------------------------+------------------------------------+-------------------------------+-------------------+-----------+\n|2007-09-29T21:23:06Z|277e21a9-2d64-452d-96c4-2d23a7af5891|Mr. Bungle              |2fcb70a7-676b-405f-93d1-ed22b67e13af|The Girls Of Porn              |2007-09-29 21:23:06|user_000332|\n|2007-01-23T23:42:33Z|84dc4f23-c0b8-4fe1-bbca-a3993ddc8fc2|Primus                  |921832e4-f836-4974-9aec-bcdb05fafe97|Los Bastardos                  |2007-01-23 23:42:33|user_000332|\n|2009-06-16T04:12:24Z|d43d12a1-2dc9-4257-a2fd-0a3bb1081b86|Johnny Cash             |9b1eada3-fcf7-4393-bbaf-cc3e3f15b6fb|Little Man (Instrumental)      |2009-06-16 04:12:24|user_000349|\n|2009-06-16T04:05:34Z|8a0e1143-b8a7-413a-bb07-4c558d230445|Graforréia Xilarmônica  |e40a0201-d989-43f0-af37-6071cea5f91e|Amigo Punk                     |2009-06-16 04:05:34|user_000349|\n|2009-06-16T04:02:34Z|8a0e1143-b8a7-413a-bb07-4c558d230445|Graforréia Xilarmônica  |e40a0201-d989-43f0-af37-6071cea5f91e|Amigo Punk                     |2009-06-16 04:02:34|user_000349|\n|2009-06-16T04:00:04Z|8a0e1143-b8a7-413a-bb07-4c558d230445|Graforréia Xilarmônica  |b37aac02-8e65-4e65-adf8-cc5ae02cecba|Hordas De Demônios             |2009-06-16 04:00:04|user_000349|\n|2009-06-16T03:57:24Z|8a0e1143-b8a7-413a-bb07-4c558d230445|Graforréia Xilarmônica  |b970a4d9-6cd2-48d0-95b1-197aaac0cb8d|Colégio Interno                |2009-06-16 03:57:24|user_000349|\n|2009-06-16T03:49:28Z|92de023e-6f08-4133-8063-c0740c855e3d|Engenheiros Do Hawaii   |6bdaf905-4962-4b4c-8e5e-79e92ce397aa|Sala Vip                       |2009-06-16 03:49:28|user_000349|\n|2009-06-16T03:43:53Z|92de023e-6f08-4133-8063-c0740c855e3d|Engenheiros Do Hawaii   |a3614140-e065-47c0-8a32-31fa2a40c96f|Humano Demais                  |2009-06-16 03:43:53|user_000349|\n|2009-06-16T03:15:29Z|57961a97-3796-4bf7-9f02-a985a8979ae9|Motörhead               |e3bb223d-f476-4d22-94b3-5bfe82f81f01|Teach You How To Sing The Blues|2009-06-16 03:15:29|user_000349|\n|2009-06-15T19:56:45Z|d6ad0ad1-2a7c-4d5f-8776-331a3732360c|David Allan Coe         |dee832ef-cdc3-40e6-8faa-34e33c942300|Penitentiary Blues             |2009-06-15 19:56:45|user_000349|\n|2009-06-15T19:52:25Z|d6ad0ad1-2a7c-4d5f-8776-331a3732360c|David Allan Coe         |65df12c7-2c65-4993-8cf0-cba9512397a0|Talkin' To The Blues           |2009-06-15 19:52:25|user_000349|\n|2009-06-15T19:47:40Z|10f89195-3af1-46f5-aa36-504aa3309f5a|Albert King             |f7fe63ad-16c9-4abc-8849-67ee0de6a19a|Born Under A Bad Sign          |2009-06-15 19:47:40|user_000349|\n|2009-06-15T19:43:10Z|4bd95eea-b9f6-4d70-a36c-cfea77431553|Alice In Chains         |fb9e081f-d9ae-4a18-8f4a-7f8bfbbac588|Rooster                        |2009-06-15 19:43:10|user_000349|\n|2009-06-15T19:37:10Z|4bd95eea-b9f6-4d70-a36c-cfea77431553|Alice In Chains         |b5502d6e-25af-4655-966d-faceab6fa0df|Down In A Hole                 |2009-06-15 19:37:10|user_000349|\n|2009-06-15T19:31:45Z|72359492-22be-4ed9-aaa0-efa434fb2b01|The Allman Brothers Band|da0fcc93-1543-4f36-973f-5cb5d4bc812f|Heart Of Stone                 |2009-06-15 19:31:45|user_000349|\n|2009-06-15T19:27:15Z|b071f9fa-14b0-4217-8e97-eb41da73f598|The Rolling Stones      |8d2338a2-4acc-4d99-b2a7-1151f428cab6|Brown Sugar                    |2009-06-15 19:27:15|user_000349|\n|2009-06-15T19:22:20Z|4bd95eea-b9f6-4d70-a36c-cfea77431553|Alice In Chains         |b0b9e9c1-a234-42db-a2b6-d0d576bf525d|Would?                         |2009-06-15 19:22:20|user_000349|\n|2009-06-15T19:18:35Z|3619a3ab-a31a-45f4-8b8f-2f29cc7ca8d5|Rebel Meets Rebel       |88ed0f46-6219-4b24-b4d6-54e8686591aa|Heart Worn Highway             |2009-06-15 19:18:35|user_000349|\n|2009-06-15T19:13:20Z|65f4f0c5-ef9e-490c-aee3-909e7ae6b2ab|Metallica               |cb5e638b-94b3-4a7f-ac77-8d36ff9669a4|Turn The Page                  |2009-06-15 19:13:20|user_000349|\n+--------------------+------------------------------------+------------------------+------------------------------------+-------------------------------+-------------------+-----------+\nonly showing top 20 rows\n",
					"output_type": "stream"
				}
			]
		},
		{
			"cell_type": "markdown",
			"source": "#### Cambio de nombre a la columna id de usuario",
			"metadata": {}
		},
		{
			"cell_type": "code",
			"source": "df_dim_users_rename_id = (\n    df_dim_users\n    .withColumnRenamed(\"#id\",\"user_id\")\n)",
			"metadata": {
				"trusted": true
			},
			"execution_count": 8,
			"outputs": [
				{
					"name": "stdout",
					"text": "\n",
					"output_type": "stream"
				}
			]
		},
		{
			"cell_type": "markdown",
			"source": "#### Añadir columnas de mes y dia de registro\n#### El cliente necesita saber a que horocopo pertenece cada usuario en base a su fecha de registro\n#### Estas columnas serán las encargadas de hacer el cruce",
			"metadata": {}
		},
		{
			"cell_type": "code",
			"source": "def day(date):\n    date_str = str(date)\n    date_split = date_str.split(\"-\")\n    day = int(date_split[2])\n    return day\n\ndayUDF = udf(lambda date: day(date))\n\ndf_dim_users_month_day_register = (\n    df_dim_users_rename_id\n    .withColumn(\"register_month\", month(\"register_date\"))\n    .withColumn(\"register_day\", dayUDF(\"register_date\"))    \n)\ndf_dim_users_month_day_register.show()",
			"metadata": {
				"trusted": true
			},
			"execution_count": 9,
			"outputs": [
				{
					"name": "stdout",
					"text": "+-----------+------+----+------------------+------------+--------------------+-------------+--------------+------------+\n|    user_id|gender| age|           country|  registered|        country_name|register_date|register_month|register_day|\n+-----------+------+----+------------------+------------+--------------------+-------------+--------------+------------+\n|user_000001|     m|null|             Japan|Aug 13, 2006|               Japan|   2006-08-13|             8|          13|\n|user_000002|     f|null|              Peru|Feb 24, 2006|                Peru|   2006-02-24|             2|          24|\n|user_000003|     m|  22|     United States|Oct 30, 2005|United States of ...|   2005-10-30|            10|          30|\n|user_000004|     f|null|              null|Apr 26, 2006|                null|   2006-04-26|             4|          26|\n|user_000005|     m|null|          Bulgaria|Jun 29, 2006|            Bulgaria|   2006-06-29|             6|          29|\n|user_000006|  null|  24|Russian Federation|May 18, 2006|              Russia|   2006-05-18|             5|          18|\n|user_000007|     f|null|     United States|Jan 22, 2006|United States of ...|   2006-01-22|             1|          22|\n|user_000008|     m|  23|          Slovakia|Sep 28, 2006|            Slovakia|   2006-09-28|             9|          28|\n|user_000009|     f|  19|     United States|Jan 13, 2007|United States of ...|   2007-01-13|             1|          13|\n|user_000010|     m|  19|            Poland| May 4, 2006|              Poland|   2006-05-04|             5|           4|\n|user_000011|     m|  21|           Finland| Sep 8, 2005|             Finland|   2005-09-08|             9|           8|\n|user_000012|     f|  28|     United States|Mar 30, 2005|United States of ...|   2005-03-30|             3|          30|\n|user_000013|     f|  25|           Romania|Sep 25, 2006|             Romania|   2006-09-25|             9|          25|\n|user_000014|  null|null|              null|Jan 27, 2006|                null|   2006-01-27|             1|          27|\n|user_000015|  null|  21|     Cote D'Ivoire| Oct 3, 2006|       Cote D'Ivoire|   2006-10-03|            10|           3|\n|user_000016|     m|null|    United Kingdom| Aug 5, 2005|      United Kingdom|   2005-08-05|             8|           5|\n|user_000017|     m|  22|           Morocco|Aug 27, 2007|             Morocco|   2007-08-27|             8|          27|\n|user_000018|  null|  22|    United Kingdom|Aug 26, 2005|      United Kingdom|   2005-08-26|             8|          26|\n|user_000019|     f|  29|            Mexico|Nov 10, 2005|              Mexico|   2005-11-10|            11|          10|\n|user_000020|     f|  27|           Germany|Jul 24, 2006|             Germany|   2006-07-24|             7|          24|\n+-----------+------+----+------------------+------------+--------------------+-------------+--------------+------------+\nonly showing top 20 rows\n",
					"output_type": "stream"
				}
			]
		},
		{
			"cell_type": "markdown",
			"source": "#### Cruce para conocer el horoscopo de cada usuario\n#### El cliente quiere conocerlo por lo que es buena idea agregarlo a la dimension de usuarios directamente para ahorrar cruces a la hora de hacer analitica",
			"metadata": {}
		},
		{
			"cell_type": "code",
			"source": "df_users_join_horoscopes = (\n    df_dim_users_month_day_register\n    .join(df_dim_horoscopes, (df_dim_users_month_day_register.register_day == df_dim_horoscopes.Day) & (df_dim_users_month_day_register.register_month == df_dim_horoscopes.Month),\"left\")\n    .drop(\"Date\",\"Day\",\"Month\")\n    .withColumnRenamed(\"Horocope\",\"horoscope\")  \n)",
			"metadata": {
				"trusted": true
			},
			"execution_count": 10,
			"outputs": [
				{
					"name": "stdout",
					"text": "\n",
					"output_type": "stream"
				}
			]
		},
		{
			"cell_type": "markdown",
			"source": "#### Comprobar que todos los usuarios quedan enmarcados en un horoscopo",
			"metadata": {}
		},
		{
			"cell_type": "code",
			"source": "(\n    df_dim_users_month_day_register\n    .join(df_dim_horoscopes, (df_dim_users_month_day_register.register_day == df_dim_horoscopes.Day) & (df_dim_users_month_day_register.register_month == df_dim_horoscopes.Month),\"left\")\n    .drop(\"Date\",\"Day\",\"Month\")\n    .withColumnRenamed(\"Horocope\",\"horoscope\")\n    .where(\"horoscope is null\")\n    .show()  \n)",
			"metadata": {
				"trusted": true
			},
			"execution_count": 11,
			"outputs": [
				{
					"name": "stdout",
					"text": "+-------+------+---+-------+----------+------------+-------------+--------------+------------+---------+\n|user_id|gender|age|country|registered|country_name|register_date|register_month|register_day|Horoscope|\n+-------+------+---+-------+----------+------------+-------------+--------------+------------+---------+\n+-------+------+---+-------+----------+------------+-------------+--------------+------------+---------+\n",
					"output_type": "stream"
				}
			]
		},
		{
			"cell_type": "markdown",
			"source": "#### Cruce para añadir el continente del ususario\n#### El cliente lo requiere, por lo que seria util agregarlo a la dimension de usuarios en lugar de cruzar constantemente",
			"metadata": {}
		},
		{
			"cell_type": "code",
			"source": "df_dim_users_with_continent = (\n    df_dim_users_month_day_register\n    .join(df_dim_countries, df_dim_users_month_day_register.country_name == df_dim_countries.country, \"left\")\n    .drop(df_dim_countries.country)\n    \n)\ndf_dim_users_with_continent.show()",
			"metadata": {
				"trusted": true
			},
			"execution_count": 14,
			"outputs": [
				{
					"name": "stdout",
					"text": "+-----------+------+----+------------------+------------+--------------------+-------------+--------------+------------+--------------------+----------+---------+\n|    user_id|gender| age|           country|  registered|        country_name|register_date|register_month|register_day|                pais|continente|continent|\n+-----------+------+----+------------------+------------+--------------------+-------------+--------------+------------+--------------------+----------+---------+\n|user_000001|     m|null|             Japan|Aug 13, 2006|               Japan|   2006-08-13|             8|          13|               Japón|      Asia|     Asia|\n|user_000002|     f|null|              Peru|Feb 24, 2006|                Peru|   2006-02-24|             2|          24|                Perú|   América|  America|\n|user_000003|     m|  22|     United States|Oct 30, 2005|United States of ...|   2005-10-30|            10|          30|Estados Unidos de...|   América|  America|\n|user_000004|     f|null|              null|Apr 26, 2006|                null|   2006-04-26|             4|          26|                null|      null|     null|\n|user_000005|     m|null|          Bulgaria|Jun 29, 2006|            Bulgaria|   2006-06-29|             6|          29|            Bulgaria|    Europa|   Europe|\n|user_000006|  null|  24|Russian Federation|May 18, 2006|              Russia|   2006-05-18|             5|          18|               Rusia|    Europa|   Europe|\n|user_000007|     f|null|     United States|Jan 22, 2006|United States of ...|   2006-01-22|             1|          22|Estados Unidos de...|   América|  America|\n|user_000008|     m|  23|          Slovakia|Sep 28, 2006|            Slovakia|   2006-09-28|             9|          28|          Eslovaquia|    Europa|   Europe|\n|user_000009|     f|  19|     United States|Jan 13, 2007|United States of ...|   2007-01-13|             1|          13|Estados Unidos de...|   América|  America|\n|user_000010|     m|  19|            Poland| May 4, 2006|              Poland|   2006-05-04|             5|           4|             Polonia|    Europa|   Europe|\n|user_000011|     m|  21|           Finland| Sep 8, 2005|             Finland|   2005-09-08|             9|           8|           Finlandia|    Europa|   Europe|\n|user_000012|     f|  28|     United States|Mar 30, 2005|United States of ...|   2005-03-30|             3|          30|Estados Unidos de...|   América|  America|\n|user_000013|     f|  25|           Romania|Sep 25, 2006|             Romania|   2006-09-25|             9|          25|             Rumanía|    Europa|   Europe|\n|user_000014|  null|null|              null|Jan 27, 2006|                null|   2006-01-27|             1|          27|                null|      null|     null|\n|user_000015|  null|  21|     Cote D'Ivoire| Oct 3, 2006|       Cote D'Ivoire|   2006-10-03|            10|           3|       Cote D'Ivoire|    África|   Africa|\n|user_000016|     m|null|    United Kingdom| Aug 5, 2005|      United Kingdom|   2005-08-05|             8|           5|         Reino Unido|    Europa|   Europe|\n|user_000017|     m|  22|           Morocco|Aug 27, 2007|             Morocco|   2007-08-27|             8|          27|           Marruecos|    África|   Africa|\n|user_000018|  null|  22|    United Kingdom|Aug 26, 2005|      United Kingdom|   2005-08-26|             8|          26|         Reino Unido|    Europa|   Europe|\n|user_000019|     f|  29|            Mexico|Nov 10, 2005|              Mexico|   2005-11-10|            11|          10|              México|   América|  America|\n|user_000020|     f|  27|           Germany|Jul 24, 2006|             Germany|   2006-07-24|             7|          24|            Alemania|    Europa|   Europe|\n+-----------+------+----+------------------+------------+--------------------+-------------+--------------+------------+--------------------+----------+---------+\nonly showing top 20 rows\n",
					"output_type": "stream"
				}
			]
		},
		{
			"cell_type": "code",
			"source": "df_dim_user_refined = (\n    df_dim_users_with_continent\n    .drop(\"nombre\")\n)",
			"metadata": {
				"trusted": true
			},
			"execution_count": 15,
			"outputs": [
				{
					"name": "stdout",
					"text": "\n",
					"output_type": "stream"
				}
			]
		},
		{
			"cell_type": "markdown",
			"source": "### Hechos de usuarios",
			"metadata": {}
		},
		{
			"cell_type": "markdown",
			"source": "### La asignacion del id del grupo y el nombre del grupo no es 1 a 1, por lo que el campo no es fiable para usarlo de identificador unico",
			"metadata": {}
		},
		{
			"cell_type": "code",
			"source": "df_dim_groups = (\n    df_dim_facts\n    .select(\"group_name\",\"group_id\")\n    .distinct()\n    \n    \n)\ncount = (\n    df_dim_facts\n    .select(\"group_name\")\n    \n    .distinct()\n    .count()\n    \n)\nprint(f\"Cuenta por group name {count} y cuante por los dos campos {df_dim_groups.count()}\")\ndf_dim_facts.where( col(\"group_id\").isNull()).show(truncate=False)\n",
			"metadata": {
				"trusted": true
			},
			"execution_count": 16,
			"outputs": [
				{
					"name": "stdout",
					"text": "Cuenta por group name 174090 y cuante por los dos campos 177023\n+--------------------+--------+----------------------------+-------+------------------------------------------+-------------------+-----------+\n|fact_date           |group_id|group_name                  |song_id|song_name                                 |fact_timestamp     |user_id    |\n+--------------------+--------+----------------------------+-------+------------------------------------------+-------------------+-----------+\n|2009-06-13T21:11:50Z|null    |Os_Nerds                    |null   |Me Dê @Op No #Seu_Coracao                 |2009-06-13 21:11:50|user_000349|\n|2009-06-13T13:38:34Z|null    |The Blue Velvets - Golliwogs|null   |Come On Baby                              |2009-06-13 13:38:34|user_000349|\n|2009-06-13T02:40:37Z|null    |Nikolo Ktozev, Nostradamus  |null   |Chosen Man                                |2009-06-13 02:40:37|user_000349|\n|2009-06-13T00:05:31Z|null    |Banda Clandestino           |null   |Ñemihapeguá                               |2009-06-13 00:05:31|user_000349|\n|2009-06-12T23:27:06Z|null    |O Bando Do Velho Jack       |null   |Trem Do Pantanal                          |2009-06-12 23:27:06|user_000349|\n|2009-06-12T23:20:21Z|null    |O Bando Do Velho Jack       |null   |Gasolina                                  |2009-06-12 23:20:21|user_000349|\n|2009-06-12T02:23:06Z|null    |O Bando Do Velho Jack       |null   |Nuvens                                    |2009-06-12 02:23:06|user_000349|\n|2009-06-10T21:40:28Z|null    |Mägo De Oz & Doro Pesch     |null   |The Man On The Silver Mountain            |2009-06-10 21:40:28|user_000349|\n|2009-06-09T16:23:10Z|null    |Wim Van Dulleman            |null   |Ancient Greek Melody                      |2009-06-09 16:23:10|user_000349|\n|2009-06-09T05:45:26Z|null    |Jaspion                     |null   |Daileon                                   |2009-06-09 05:45:26|user_000349|\n|2009-06-08T20:57:00Z|null    |Paul Rodgers/Trevor Rabin   |null   |07 - She'S Alright                        |2009-06-08 20:57:00|user_000349|\n|2009-06-08T20:25:48Z|null    |Zucchero & Maná             |null   |Baila Morena                              |2009-06-08 20:25:48|user_000349|\n|2009-06-08T13:57:57Z|null    |Jeff Beck & Seal            |null   |Manic Depression                          |2009-06-08 13:57:57|user_000349|\n|2009-06-08T01:48:20Z|null    |The Blue Velvets - Golliwogs|null   |Walking On The Water                      |2009-06-08 01:48:20|user_000349|\n|2009-06-07T20:43:47Z|null    |Zucchero & Maná             |null   |Baila Morena                              |2009-06-07 20:43:47|user_000349|\n|2009-06-06T18:08:12Z|null    |Jeff Beck & Seal            |null   |Manic Depression                          |2009-06-06 18:08:12|user_000349|\n|2009-06-06T14:19:40Z|null    |Rickandroll                 |null   |Purple Haze (Jimi Hendrix Cover) [Preview]|2009-06-06 14:19:40|user_000349|\n|2009-06-06T11:53:02Z|null    |B.B. King With Willie Nelson|null   |Night Life                                |2009-06-06 11:53:02|user_000349|\n|2009-06-06T10:45:41Z|null    |The Blue Velvets - Golliwogs|null   |Gonna Hang Around                         |2009-06-06 10:45:41|user_000349|\n|2009-06-06T10:06:25Z|null    |Blessed By Hate             |null   |Sangue Nos Olhos                          |2009-06-06 10:06:25|user_000349|\n+--------------------+--------+----------------------------+-------+------------------------------------------+-------------------+-----------+\nonly showing top 20 rows\n",
					"output_type": "stream"
				}
			]
		},
		{
			"cell_type": "code",
			"source": "",
			"metadata": {},
			"execution_count": null,
			"outputs": []
		},
		{
			"cell_type": "code",
			"source": "(\n    df_dim_facts\n    .groupBy(\"group_name\",\"song_name\")\n    .agg(countDistinct(\"group_name\",\"song_name\").alias(\"cuenta\"))\n    .where(col(\"cuenta\")>1)\n\n    .show(truncate=False)\n)",
			"metadata": {
				"trusted": true
			},
			"execution_count": 9,
			"outputs": [
				{
					"name": "stdout",
					"text": "+----------+---------+------+\n|group_name|song_name|cuenta|\n+----------+---------+------+\n+----------+---------+------+\n",
					"output_type": "stream"
				}
			]
		},
		{
			"cell_type": "code",
			"source": "(\n    df_dim_facts\n    .select(\"group_name\",\"song_name\",\"group_id\",\"song_id\")\n    .distinct()\n    .count()\n)",
			"metadata": {
				"trusted": true
			},
			"execution_count": 7,
			"outputs": [
				{
					"name": "stdout",
					"text": "1493185\n",
					"output_type": "stream"
				}
			]
		},
		{
			"cell_type": "markdown",
			"source": "#### Todos los hechos vienen bien identificados por el user id",
			"metadata": {}
		},
		{
			"cell_type": "code",
			"source": "(\n    df_dim_facts\n    .where(col(\"user_id\").isNull())\n    .show(truncate=False)\n)",
			"metadata": {
				"trusted": true
			},
			"execution_count": 13,
			"outputs": [
				{
					"name": "stdout",
					"text": "+---------+--------+----------+-------+---------+--------------+----+-----+-------+\n|fact_date|group_id|group_name|song_id|song_name|fact_timestamp|year|month|user_id|\n+---------+--------+----------+-------+---------+--------------+----+-----+-------+\n+---------+--------+----------+-------+---------+--------------+----+-----+-------+\n",
					"output_type": "stream"
				}
			]
		},
		{
			"cell_type": "code",
			"source": "",
			"metadata": {},
			"execution_count": null,
			"outputs": []
		}
	]
}