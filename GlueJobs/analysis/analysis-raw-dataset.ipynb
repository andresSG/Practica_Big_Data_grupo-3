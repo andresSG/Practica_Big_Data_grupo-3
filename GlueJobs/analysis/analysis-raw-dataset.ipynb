{
	"metadata": {
		"toc-showcode": true,
		"kernelspec": {
			"name": "glue_pyspark",
			"display_name": "Glue PySpark",
			"language": "python"
		},
		"language_info": {
			"name": "Python_Glue_Session",
			"mimetype": "text/x-python",
			"codemirror_mode": {
				"name": "python",
				"version": 3
			},
			"pygments_lexer": "python3",
			"file_extension": ".py"
		}
	},
	"nbformat_minor": 4,
	"nbformat": 4,
	"cells": [
		{
			"cell_type": "markdown",
			"source": "# Estudio sobre los datos del dataset original para la toma de decisiones\n\n",
			"metadata": {
				"editable": true,
				"trusted": true
			}
		},
		{
			"cell_type": "markdown",
			"source": "####  Run this cell to set up and start your interactive session.\n",
			"metadata": {
				"editable": true,
				"trusted": true
			}
		},
		{
			"cell_type": "code",
			"source": "%idle_timeout 2880\n%glue_version 3.0\n%worker_type G.1X\n%number_of_workers 5\n\nimport sys\nfrom awsglue.transforms import *\nfrom awsglue.utils import getResolvedOptions\nfrom pyspark.context import SparkContext\nfrom awsglue.context import GlueContext\nfrom awsglue.job import Job\nfrom pyspark.sql.functions import *\n  \nsc = SparkContext.getOrCreate()\nglueContext = GlueContext(sc)\nspark = glueContext.spark_session\njob = Job(glueContext)",
			"metadata": {
				"editable": true,
				"trusted": true
			},
			"execution_count": 1,
			"outputs": [
				{
					"name": "stdout",
					"text": "Welcome to the Glue Interactive Sessions Kernel\nFor more information on available magic commands, please type %help in any new cell.\n\nPlease view our Getting Started page to access the most up-to-date information on the Interactive Sessions kernel: https://docs.aws.amazon.com/glue/latest/dg/interactive-sessions.html\nInstalled kernel version: 0.37.0 \nCurrent idle_timeout is 2800 minutes.\nidle_timeout has been set to 2880 minutes.\nSetting Glue version to: 3.0\nPrevious worker type: G.1X\nSetting new worker type to: G.1X\nPrevious number of workers: 5\nSetting new number of workers to: 5\nAuthenticating with environment variables and user-defined glue_role_arn: arn:aws:iam::114652167878:role/Glue_Role_Grupo5\nTrying to create a Glue session for the kernel.\nWorker Type: G.1X\nNumber of Workers: 5\nSession ID: 18b6ffc6-2c64-41f8-8eb2-42d7b3de8567\nJob Type: glueetl\nApplying the following default arguments:\n--glue_kernel_version 0.37.0\n--enable-glue-datacatalog true\nWaiting for session 18b6ffc6-2c64-41f8-8eb2-42d7b3de8567 to get into ready status...\nSession 18b6ffc6-2c64-41f8-8eb2-42d7b3de8567 has been created.\n\n",
					"output_type": "stream"
				}
			]
		},
		{
			"cell_type": "markdown",
			"source": "### Carga de los ficheros del dataset para exploracion",
			"metadata": {}
		},
		{
			"cell_type": "code",
			"source": "df_users = (\n    spark.read\n    .format(\"csv\")\n    .option(\"header\", \"true\")\n    .option(\"delimiter\",'\\t')\n    .load(\"s3://pr2-grupo3-rodaan-raw-layer/data/user/userid-profile.tsv\")\n)\ndf_users.show()",
			"metadata": {
				"trusted": true
			},
			"execution_count": 3,
			"outputs": [
				{
					"name": "stdout",
					"text": "+-----------+------+----+------------------+------------+\n|        #id|gender| age|           country|  registered|\n+-----------+------+----+------------------+------------+\n|user_000001|     m|null|             Japan|Aug 13, 2006|\n|user_000002|     f|null|              Peru|Feb 24, 2006|\n|user_000003|     m|  22|     United States|Oct 30, 2005|\n|user_000004|     f|null|              null|Apr 26, 2006|\n|user_000005|     m|null|          Bulgaria|Jun 29, 2006|\n|user_000006|  null|  24|Russian Federation|May 18, 2006|\n|user_000007|     f|null|     United States|Jan 22, 2006|\n|user_000008|     m|  23|          Slovakia|Sep 28, 2006|\n|user_000009|     f|  19|     United States|Jan 13, 2007|\n|user_000010|     m|  19|            Poland| May 4, 2006|\n|user_000011|     m|  21|           Finland| Sep 8, 2005|\n|user_000012|     f|  28|     United States|Mar 30, 2005|\n|user_000013|     f|  25|           Romania|Sep 25, 2006|\n|user_000014|  null|null|              null|Jan 27, 2006|\n|user_000015|  null|  21|     Cote D'Ivoire| Oct 3, 2006|\n|user_000016|     m|null|    United Kingdom| Aug 5, 2005|\n|user_000017|     m|  22|           Morocco|Aug 27, 2007|\n|user_000018|  null|  22|    United Kingdom|Aug 26, 2005|\n|user_000019|     f|  29|            Mexico|Nov 10, 2005|\n|user_000020|     f|  27|           Germany|Jul 24, 2006|\n+-----------+------+----+------------------+------------+\nonly showing top 20 rows\n",
					"output_type": "stream"
				}
			]
		},
		{
			"cell_type": "code",
			"source": "df_countries = (\n    spark.read\n    .format(\"csv\")\n    .option(\"header\", \"true\")\n    .load(\"s3://pr2-grupo3-rodaan-raw-layer/data/country/paises.csv\")\n)\ndf_countries.show()",
			"metadata": {
				"trusted": true
			},
			"execution_count": 4,
			"outputs": [
				{
					"name": "stdout",
					"text": "+--------------------+--------------------+--------------------+-----+-----+-----------+-------------------+\n|              nombre|                name|                 nom| iso2| iso3| phone_code|         continente|\n+--------------------+--------------------+--------------------+-----+-----+-----------+-------------------+\n|          Afganistán|         Afghanistan|         Afghanistan|   AF|  AFG|         93|               Asia|\n|             Albania|             Albania|             Albanie|   AL|  ALB|        355|             Europa|\n|            Alemania|             Germany|           Allemagne|   DE|  DEU|         49|             Europa|\n|             Algeria|             Algeria|             Algérie|   DZ|  DZA|        213|             África|\n|             Andorra|             Andorra|             Andorra|   AD|  AND|        376|             Europa|\n|              Angola|              Angola|              Angola|   AO|  AGO|        244|             África|\n|             Anguila|            Anguilla|            Anguilla|   AI|  AIA|      1 264|            América|\n|           Antártida|          Antarctica|       L'Antarctique|   AQ|  ATA|        672|          Antártida|\n|   Antigua y Barbuda| Antigua and Barbuda|  Antigua et Barbuda|   AG|  ATG|      1 268|            América|\n|Antillas Neerland...|Netherlands Antilles|Antilles Néerland...|   AN|  ANT|        599|            América|\n|      Arabia Saudita|        Saudi Arabia|     Arabie Saoudite|   SA|  SAU|        966|               Asia|\n|           Argentina|           Argentina|           Argentine|   AR|  ARG|         54|            América|\n|             Armenia|             Armenia|           L'Arménie|   AM|  ARM|        374|               Asia|\n|               Aruba|               Aruba|               Aruba|   AW|  ABW|        297|            América|\n|           Australia|           Australia|           Australie|   AU|  AUS|         61|Australia y Oceanía|\n|             Austria|             Austria|            Autriche|   AT|  AUT|         43|             Europa|\n|           Azerbayán|          Azerbaijan|       L'Azerbaïdjan|   AZ|  AZE|        994|               Asia|\n|             Bélgica|             Belgium|            Belgique|   BE|  BEL|         32|             Europa|\n|             Bahamas|             Bahamas|             Bahamas|   BS|  BHS|      1 242|            América|\n|             Bahrein|             Bahrain|             Bahreïn|   BH|  BHR|        973|               Asia|\n+--------------------+--------------------+--------------------+-----+-----+-----------+-------------------+\nonly showing top 20 rows\n",
					"output_type": "stream"
				}
			]
		},
		{
			"cell_type": "code",
			"source": "df_users_facts = (\n    spark.read\n    .format(\"csv\")\n    .option(\"delimiter\",'\\t')\n    .load(\"s3://pr2-grupo3-rodaan-raw-layer/data/user/userid-timestamp-artid-artname-traid-traname.tsv\")\n)\ndf_users_facts.show()",
			"metadata": {
				"trusted": true
			},
			"execution_count": 4,
			"outputs": [
				{
					"name": "stdout",
					"text": "+-----------+--------------------+--------------------+---------------+--------------------+--------------------+\n|        _c0|                 _c1|                 _c2|            _c3|                 _c4|                 _c5|\n+-----------+--------------------+--------------------+---------------+--------------------+--------------------+\n|user_000001|2009-05-04T23:08:57Z|f1b1cf71-bd35-4e9...|      Deep Dish|                null|Fuck Me Im Famous...|\n|user_000001|2009-05-04T13:54:10Z|a7f7df4a-77d8-4f1...|       坂本龍一|                null|Composition 0919 ...|\n|user_000001|2009-05-04T13:52:04Z|a7f7df4a-77d8-4f1...|       坂本龍一|                null|Mc2 (Live_2009_4_15)|\n|user_000001|2009-05-04T13:42:52Z|a7f7df4a-77d8-4f1...|       坂本龍一|                null|Hibari (Live_2009...|\n|user_000001|2009-05-04T13:42:11Z|a7f7df4a-77d8-4f1...|       坂本龍一|                null|Mc1 (Live_2009_4_15)|\n|user_000001|2009-05-04T13:38:31Z|a7f7df4a-77d8-4f1...|       坂本龍一|                null|To Stanford (Live...|\n|user_000001|2009-05-04T13:33:28Z|a7f7df4a-77d8-4f1...|       坂本龍一|                null|Improvisation (Li...|\n|user_000001|2009-05-04T13:23:45Z|a7f7df4a-77d8-4f1...|       坂本龍一|                null|Glacier (Live_200...|\n|user_000001|2009-05-04T13:19:22Z|a7f7df4a-77d8-4f1...|       坂本龍一|                null|Parolibre (Live_2...|\n|user_000001|2009-05-04T13:13:38Z|a7f7df4a-77d8-4f1...|       坂本龍一|                null|Bibo No Aozora (L...|\n|user_000001|2009-05-04T13:06:09Z|a7f7df4a-77d8-4f1...|       坂本龍一|f7c1f8f8-b935-45e...|The Last Emperor ...|\n|user_000001|2009-05-04T13:00:48Z|a7f7df4a-77d8-4f1...|       坂本龍一|                null|Happyend (Live_20...|\n|user_000001|2009-05-04T12:55:34Z|a7f7df4a-77d8-4f1...|       坂本龍一|475d4e50-cebb-4cd...|Tibetan Dance (Ve...|\n|user_000001|2009-05-04T12:51:26Z|a7f7df4a-77d8-4f1...|       坂本龍一|                null|Behind The Mask (...|\n|user_000001|2009-05-03T15:48:25Z|ba2f4f3b-0293-4bc...|     Underworld|dc394163-2b78-4b5...|Boy, Boy, Boy (Sw...|\n|user_000001|2009-05-03T15:37:56Z|ba2f4f3b-0293-4bc...|     Underworld|340d9a0b-9a43-409...|Crocodile (Innerv...|\n|user_000001|2009-05-03T15:14:53Z|a16e47f5-aa54-47f...|Ennio Morricone|0b04407b-f517-4e0...|Ninna Nanna In Bl...|\n|user_000001|2009-05-03T15:10:18Z|463a94f1-2713-40b...|        Minus 8|4e78efc4-e545-47a...|      Elysian Fields|\n|user_000001|2009-05-03T15:04:31Z|ad0811ea-e213-451...|      Beanfield|fb51d2c4-cc69-412...|  Planetary Deadlock|\n|user_000001|2009-05-03T14:56:25Z|309e2dfc-678e-4d0...|       Dj Linus|4277434f-e3c2-41a...|Good Morning Love...|\n+-----------+--------------------+--------------------+---------------+--------------------+--------------------+\nonly showing top 20 rows\n",
					"output_type": "stream"
				}
			]
		},
		{
			"cell_type": "code",
			"source": "df_horoscopes = (\n    spark.read\n    .format(\"csv\")\n    .option(\"header\", \"true\")\n    .option(\"delimiter\",',')\n    .load(\"s3://pr2-grupo3-rodaan-raw-layer/data/horoscope/Horoscope.csv\")\n)\ndf_horoscopes.show()",
			"metadata": {
				"trusted": true
			},
			"execution_count": 5,
			"outputs": [
				{
					"name": "stdout",
					"text": "+---------+------+---+-----+\n|Horoscope|  Date|Day|Month|\n+---------+------+---+-----+\n|Capricorn| 1-Jan|  1|    1|\n|Capricorn| 2-Jan|  2|    1|\n|Capricorn| 3-Jan|  3|    1|\n|Capricorn| 4-Jan|  4|    1|\n|Capricorn| 5-Jan|  5|    1|\n|Capricorn| 6-Jan|  6|    1|\n|Capricorn| 7-Jan|  7|    1|\n|Capricorn| 8-Jan|  8|    1|\n|Capricorn| 9-Jan|  9|    1|\n|Capricorn|10-Jan| 10|    1|\n|Capricorn|11-Jan| 11|    1|\n|Capricorn|12-Jan| 12|    1|\n|Capricorn|13-Jan| 13|    1|\n|Capricorn|14-Jan| 14|    1|\n|Capricorn|15-Jan| 15|    1|\n|Capricorn|16-Jan| 16|    1|\n|Capricorn|17-Jan| 17|    1|\n|Capricorn|18-Jan| 18|    1|\n|Capricorn|19-Jan| 19|    1|\n| Aquarius|20-Jan| 20|    1|\n+---------+------+---+-----+\nonly showing top 20 rows\n",
					"output_type": "stream"
				}
			]
		},
		{
			"cell_type": "markdown",
			"source": "#### El nombre de las columnas de countries tienen errores tipograficos",
			"metadata": {}
		},
		{
			"cell_type": "code",
			"source": "df_countries.columns",
			"metadata": {
				"trusted": true
			},
			"execution_count": 9,
			"outputs": [
				{
					"name": "stdout",
					"text": "['nombre', ' name', ' nom', ' iso2', ' iso3', ' phone_code', 'continente']\n",
					"output_type": "stream"
				}
			]
		},
		{
			"cell_type": "code",
			"source": "df_countries_refined_names = (\n    df_countries\n    .withColumnRenamed(' name', \"country\")\n    .withColumnRenamed(' iso2', 'iso2')\n    .withColumnRenamed(' iso3', 'iso3')\n    .withColumnRenamed(' nom', 'nom')\n    .withColumnRenamed(' phone_code', 'phone_code')\n)",
			"metadata": {
				"trusted": true
			},
			"execution_count": 5,
			"outputs": [
				{
					"name": "stdout",
					"text": "\n",
					"output_type": "stream"
				}
			]
		},
		{
			"cell_type": "markdown",
			"source": "#### Tendremos que insertar el nombre del continente en ingles para normalizar los datos",
			"metadata": {}
		},
		{
			"cell_type": "code",
			"source": "df_countries_english_names = (\n        df_countries_refined_names\n        .withColumn(\"continent\",when( expr(\"continente == 'Europa'\"), \"Europe\"  )\n                   .when( expr(\"continente == 'África'\"), \"Africa\"  )\n                   .when( expr(\"continente == 'Australia y Oceanía'\"), \"Australia and Oceania\"  )\n                   .when( expr(\"continente == 'América'\"), \"America\"  )\n                   .when( expr(\"continente == 'Antártida'\"), \"Antarctica\"  )\n                   .otherwise( col(\"continente\") ))\n        .withColumnRenamed(\"nombre\",\"pais\")\n)",
			"metadata": {
				"trusted": true
			},
			"execution_count": 6,
			"outputs": [
				{
					"name": "stdout",
					"text": "\n",
					"output_type": "stream"
				}
			]
		},
		{
			"cell_type": "markdown",
			"source": "### Comprobar si existen paises del dataset de usuarios que no esten en el dataset de paises\n\n#### Existen 5 paises de usuarios que no aparecen en el dataset de paises",
			"metadata": {}
		},
		{
			"cell_type": "code",
			"source": "df_antijoin_users_countries = (\n    df_users\n    .join(df_countries_refined_names,\"country\",\"leftanti\")\n    .select(\"country\")\n    .distinct()\n    .show(truncate = False)\n)",
			"metadata": {
				"trusted": true
			},
			"execution_count": 7,
			"outputs": [
				{
					"name": "stdout",
					"text": "+--------------------------------------+\n|country                               |\n+--------------------------------------+\n|Cote D'Ivoire                         |\n|Korea, Democratic People's Republic of|\n|United States                         |\n|Congo, the Democratic Republic of the |\n|null                                  |\n|Russian Federation                    |\n+--------------------------------------+\n",
					"output_type": "stream"
				}
			]
		},
		{
			"cell_type": "markdown",
			"source": "## Se necesitara ajustar los registros del dataframe de paises y users para que crucen por pais\n### Eliminar uno de los dos congos ya que no presentan diferencias utiles\n### Para evitar registros duplicados en el cruce",
			"metadata": {}
		},
		{
			"cell_type": "code",
			"source": "df_countries_english_names.where(col(\"country\") == \"Congo\").show()",
			"metadata": {
				"trusted": true
			},
			"execution_count": 18,
			"outputs": [
				{
					"name": "stdout",
					"text": "+-----+-------+-----+----+----+----------+----------+---------+\n| pais|country|  nom|iso2|iso3|phone_code|continente|continent|\n+-----+-------+-----+----+----+----------+----------+---------+\n|Congo|  Congo|Congo|  CG| COG|       242|    África|   Africa|\n|Congo|  Congo|Congo|  CD| COD|       243|    África|   Africa|\n+-----+-------+-----+----+----+----------+----------+---------+\n",
					"output_type": "stream"
				}
			]
		},
		{
			"cell_type": "markdown",
			"source": "#### Generacion de un campo de cruce dentro del dataset de usuarios que ajusta el nombre de los paises que era diferente al que esta guardado en paises",
			"metadata": {}
		},
		{
			"cell_type": "code",
			"source": "df_users_refined = (\n    df_users\n    .withColumn(\"country_name\", when( expr(\"country like 'Congo%'\"),\"Congo\" )\n                .when( expr(\"country like 'Korea, Democratic%'\"),\"South Korea\" )\n                .when( expr(\"country like 'Russian%'\"),\"Russia\" )\n                .when( expr(\"country like 'United States%'\"),\"United States of America\" )\n                .when( expr(\"country like 'Cote D%Ivoire%'\"),\"Ivory Coast\" )\n                .otherwise(col(\"country\")) )\n)",
			"metadata": {
				"trusted": true
			},
			"execution_count": 17,
			"outputs": [
				{
					"name": "stdout",
					"text": "\n",
					"output_type": "stream"
				}
			]
		},
		{
			"cell_type": "code",
			"source": "df_countries_reduce_rows = (\n    df_countries_english_names\n    .drop(\"iso2\",\"iso3\",\"phone_code\",\"nom\")\n)\n",
			"metadata": {
				"trusted": true
			},
			"execution_count": 18,
			"outputs": [
				{
					"name": "stdout",
					"text": "\n",
					"output_type": "stream"
				}
			]
		},
		{
			"cell_type": "code",
			"source": "df_countries_union.where(col(\"country\") == \"Congo\").show()",
			"metadata": {
				"trusted": true
			},
			"execution_count": 20,
			"outputs": [
				{
					"name": "stdout",
					"text": "+-----+-------+----------+---------+\n| pais|country|continente|continent|\n+-----+-------+----------+---------+\n|Congo|  Congo|    África|   Africa|\n|Congo|  Congo|    África|   Africa|\n+-----+-------+----------+---------+\n",
					"output_type": "stream"
				}
			]
		},
		{
			"cell_type": "code",
			"source": "df_countries_drop_duplicates = (\n    df_countries_reduce_rows\n    .dropDuplicates()\n    \n)\ndf_countries_drop_duplicates.where(col(\"country\") == \"Congo\").show()",
			"metadata": {
				"trusted": true
			},
			"execution_count": 19,
			"outputs": [
				{
					"name": "stdout",
					"text": "+-----+-------+----------+---------+\n| pais|country|continente|continent|\n+-----+-------+----------+---------+\n|Congo|  Congo|    África|   Africa|\n+-----+-------+----------+---------+\n",
					"output_type": "stream"
				}
			]
		},
		{
			"cell_type": "markdown",
			"source": "#### Es importante conocer cuales son los paises que no tienen continente para diferenciar entre la no existencia del dato o que realmente son paises sin continente geografico",
			"metadata": {}
		},
		{
			"cell_type": "code",
			"source": "df_countries_drop_duplicates.where(col(\"continente\").isNull()).show(truncate= False)",
			"metadata": {
				"trusted": true
			},
			"execution_count": 22,
			"outputs": [
				{
					"name": "stdout",
					"text": "+--------------------------------------------+------------------------------------+----------+---------+\n|pais                                        |country                             |continente|continent|\n+--------------------------------------------+------------------------------------+----------+---------+\n|Islas Ultramarinas Menores de Estados Unidos|United States Minor Outlying Islands|null      |null     |\n|Territorios Australes y Antárticas Franceses|French Southern Territories         |null      |null     |\n|Territorio Británico del Océano Índico      |British Indian Ocean Territory      |null      |null     |\n+--------------------------------------------+------------------------------------+----------+---------+\n",
					"output_type": "stream"
				}
			]
		},
		{
			"cell_type": "markdown",
			"source": "#### Todos los registros pertenecen a paises hechos por islas que no tienen un continente greografico\n#### Para marcar esto y diferenciarlo de la ausencia del dato, se genera un valor que lo diferencia (\"Sin continente\")",
			"metadata": {}
		},
		{
			"cell_type": "code",
			"source": "df_countries_curated = (\n    df_countries_drop_duplicates\n    .withColumn(\"continente\",\n                when( expr(\"continente is NULL\"),\"Sin continente\" )\n                .otherwise(col(\"continente\")) )\n    .withColumn(\"continent\",\n                when( expr(\"continent is NULL\"),\"Without continent\" )\n                .otherwise(col(\"continente\")) )\n)\ndf_countries_curated.where(col(\"continente\").isNull()).show(truncate= False)",
			"metadata": {
				"trusted": true
			},
			"execution_count": 20,
			"outputs": [
				{
					"name": "stdout",
					"text": "+----+-------+----------+---------+\n|pais|country|continente|continent|\n+----+-------+----------+---------+\n+----+-------+----------+---------+\n",
					"output_type": "stream"
				}
			]
		},
		{
			"cell_type": "markdown",
			"source": "### Ahora todo cuadra perfectamente",
			"metadata": {}
		},
		{
			"cell_type": "code",
			"source": "df_antijoin_users_countries = (\n    df_users_refined\n    .join(df_countries_curated,  df_users_refined.country_name==df_countries_curated.country,\"leftanti\")\n    .select(\"country\")\n    .distinct()\n    .show()\n)",
			"metadata": {
				"trusted": true
			},
			"execution_count": 22,
			"outputs": [
				{
					"name": "stdout",
					"text": "+-------+\n|country|\n+-------+\n|   null|\n+-------+\n",
					"output_type": "stream"
				}
			]
		},
		{
			"cell_type": "code",
			"source": "df_countries_curated.where(\"country = 'Ivory Coast'\").show()",
			"metadata": {
				"trusted": true
			},
			"execution_count": 23,
			"outputs": [
				{
					"name": "stdout",
					"text": "+---------------+-----------+----------+---------+\n|           pais|    country|continente|continent|\n+---------------+-----------+----------+---------+\n|Costa de Marfil|Ivory Coast|    África|   África|\n+---------------+-----------+----------+---------+\n",
					"output_type": "stream"
				}
			]
		},
		{
			"cell_type": "markdown",
			"source": "## Limpiar los campos de users\n### Registros con todos los campos nulos -> eliminados\n### Registros con fecha formateados",
			"metadata": {}
		},
		{
			"cell_type": "code",
			"source": "df_users_refined.show()\n",
			"metadata": {
				"trusted": true
			},
			"execution_count": 11,
			"outputs": [
				{
					"name": "stdout",
					"text": "+-----------+------+----+------------------+------------+--------------------+\n|        #id|gender| age|           country|  registered|        country_name|\n+-----------+------+----+------------------+------------+--------------------+\n|user_000001|     m|null|             Japan|Aug 13, 2006|               Japan|\n|user_000002|     f|null|              Peru|Feb 24, 2006|                Peru|\n|user_000003|     m|  22|     United States|Oct 30, 2005|United States of ...|\n|user_000004|     f|null|              null|Apr 26, 2006|                null|\n|user_000005|     m|null|          Bulgaria|Jun 29, 2006|            Bulgaria|\n|user_000006|  null|  24|Russian Federation|May 18, 2006|              Russia|\n|user_000007|     f|null|     United States|Jan 22, 2006|United States of ...|\n|user_000008|     m|  23|          Slovakia|Sep 28, 2006|            Slovakia|\n|user_000009|     f|  19|     United States|Jan 13, 2007|United States of ...|\n|user_000010|     m|  19|            Poland| May 4, 2006|              Poland|\n|user_000011|     m|  21|           Finland| Sep 8, 2005|             Finland|\n|user_000012|     f|  28|     United States|Mar 30, 2005|United States of ...|\n|user_000013|     f|  25|           Romania|Sep 25, 2006|             Romania|\n|user_000014|  null|null|              null|Jan 27, 2006|                null|\n|user_000015|  null|  21|     Cote D'Ivoire| Oct 3, 2006|       Cote D'Ivoire|\n|user_000016|     m|null|    United Kingdom| Aug 5, 2005|      United Kingdom|\n|user_000017|     m|  22|           Morocco|Aug 27, 2007|             Morocco|\n|user_000018|  null|  22|    United Kingdom|Aug 26, 2005|      United Kingdom|\n|user_000019|     f|  29|            Mexico|Nov 10, 2005|              Mexico|\n|user_000020|     f|  27|           Germany|Jul 24, 2006|             Germany|\n+-----------+------+----+------------------+------------+--------------------+\nonly showing top 20 rows\n",
					"output_type": "stream"
				}
			]
		},
		{
			"cell_type": "code",
			"source": "count_distinct = df_users_refined.select(\"#id\").distinct().count()\ncount = df_users_refined.select(\"#id\").count()\nprint(f\"El numero de usuarios distintos es {count_distinct} y el numero total es {count}\")",
			"metadata": {
				"trusted": true
			},
			"execution_count": 42,
			"outputs": [
				{
					"name": "stdout",
					"text": "El numero de usuarios distintos es 992 y el numero total es 992\n",
					"output_type": "stream"
				}
			]
		},
		{
			"cell_type": "code",
			"source": "count = df_users_refined.where(\"registered is null\").count()\nprint(f\"El numero de usuarios sin fecha de registro es {count}\")",
			"metadata": {
				"trusted": true
			},
			"execution_count": 43,
			"outputs": [
				{
					"name": "stdout",
					"text": "El numero de usuarios sin fecha de registro es 8\n",
					"output_type": "stream"
				}
			]
		},
		{
			"cell_type": "markdown",
			"source": "#### Estos registros se eliminara durante la etl\n#### Al no tener fecha de registro y ningun datos util, se consideran datos corruptos por lo que no son utiles para analizar",
			"metadata": {}
		},
		{
			"cell_type": "code",
			"source": "df_users_refined.where(\"registered is null\").show()",
			"metadata": {
				"trusted": true
			},
			"execution_count": 18,
			"outputs": [
				{
					"name": "stdout",
					"text": "+-----------+------+----+-------+----------+------------+\n|        #id|gender| age|country|registered|country_name|\n+-----------+------+----+-------+----------+------------+\n|user_000030|  null|null|   null|      null|        null|\n|user_000129|  null|null|   null|      null|        null|\n|user_000174|  null|null|   null|      null|        null|\n|user_000353|  null|null|   null|      null|        null|\n|user_000588|  null|null|   null|      null|        null|\n|user_000734|  null|null|   null|      null|        null|\n|user_000806|  null|null|   null|      null|        null|\n|user_000976|  null|null|   null|      null|        null|\n+-----------+------+----+-------+----------+------------+\n",
					"output_type": "stream"
				}
			]
		},
		{
			"cell_type": "code",
			"source": "df_users_without_values = df_users_refined.where(\"registered is null\")",
			"metadata": {
				"trusted": true
			},
			"execution_count": 9,
			"outputs": [
				{
					"name": "stdout",
					"text": "\n",
					"output_type": "stream"
				}
			]
		},
		{
			"cell_type": "markdown",
			"source": "##### Usuarios sin pais registrado",
			"metadata": {}
		},
		{
			"cell_type": "code",
			"source": "(\n    df_users_refined\n    .where(\"country is null and registered is not null\")\n    .show(truncate = False)\n    \n)\ntotal = (\n    df_users_refined\n    .where(\"country is null and registered is not null\")\n    .count() \n)\nprint(f\"El total de usuarios sin pais registrado es: {total}\")",
			"metadata": {
				"trusted": true
			},
			"execution_count": 22,
			"outputs": [
				{
					"name": "stdout",
					"text": "+-----------+------+----+-------+------------+------------+\n|#id        |gender|age |country|registered  |country_name|\n+-----------+------+----+-------+------------+------------+\n|user_000004|f     |null|null   |Apr 26, 2006|null        |\n|user_000014|null  |null|null   |Jan 27, 2006|null        |\n|user_000049|null  |null|null   |Jan 11, 2006|null        |\n|user_000061|null  |null|null   |Apr 29, 2007|null        |\n|user_000068|null  |null|null   |Oct 16, 2009|null        |\n|user_000077|null  |null|null   |Apr 24, 2006|null        |\n|user_000080|null  |null|null   |Aug 28, 2006|null        |\n|user_000086|f     |27  |null   |Sep 21, 2007|null        |\n|user_000095|f     |4   |null   |Jan 27, 2006|null        |\n|user_000126|f     |null|null   |Aug 3, 2006 |null        |\n|user_000133|null  |null|null   |Jul 6, 2005 |null        |\n|user_000146|null  |null|null   |Apr 4, 2007 |null        |\n|user_000153|m     |33  |null   |Jan 24, 2005|null        |\n|user_000171|null  |null|null   |Oct 29, 2002|null        |\n|user_000183|m     |null|null   |Dec 29, 2006|null        |\n|user_000200|null  |null|null   |Oct 20, 2006|null        |\n|user_000216|f     |null|null   |Jan 21, 2007|null        |\n|user_000220|f     |null|null   |Jul 27, 2006|null        |\n|user_000229|null  |null|null   |Jan 5, 2005 |null        |\n|user_000231|null  |null|null   |Aug 9, 2006 |null        |\n+-----------+------+----+-------+------------+------------+\nonly showing top 20 rows\n\nEl total de usuarios sin pais registrado es: 77\n",
					"output_type": "stream"
				}
			]
		},
		{
			"cell_type": "markdown",
			"source": "#### Hay 77 usuarios que no tienen un pais registrado\n#### La fecha de registro si que se informa\n#### Se mantendran estos registros por si son utiles para el cliente, para analizarlos\n#### Se dejaran fueran de los calculos de las kpis solicitadas",
			"metadata": {}
		},
		{
			"cell_type": "code",
			"source": "df_users_refined.show()",
			"metadata": {
				"trusted": true
			},
			"execution_count": 20,
			"outputs": [
				{
					"name": "stdout",
					"text": "+-----------+------+----+------------------+------------+--------------------+\n|        #id|gender| age|           country|  registered|        country_name|\n+-----------+------+----+------------------+------------+--------------------+\n|user_000001|     m|null|             Japan|Aug 13, 2006|               Japan|\n|user_000002|     f|null|              Peru|Feb 24, 2006|                Peru|\n|user_000003|     m|  22|     United States|Oct 30, 2005|United States of ...|\n|user_000004|     f|null|              null|Apr 26, 2006|                null|\n|user_000005|     m|null|          Bulgaria|Jun 29, 2006|            Bulgaria|\n|user_000006|  null|  24|Russian Federation|May 18, 2006|              Russia|\n|user_000007|     f|null|     United States|Jan 22, 2006|United States of ...|\n|user_000008|     m|  23|          Slovakia|Sep 28, 2006|            Slovakia|\n|user_000009|     f|  19|     United States|Jan 13, 2007|United States of ...|\n|user_000010|     m|  19|            Poland| May 4, 2006|              Poland|\n|user_000011|     m|  21|           Finland| Sep 8, 2005|             Finland|\n|user_000012|     f|  28|     United States|Mar 30, 2005|United States of ...|\n|user_000013|     f|  25|           Romania|Sep 25, 2006|             Romania|\n|user_000014|  null|null|              null|Jan 27, 2006|                null|\n|user_000015|  null|  21|     Cote D'Ivoire| Oct 3, 2006|       Cote D'Ivoire|\n|user_000016|     m|null|    United Kingdom| Aug 5, 2005|      United Kingdom|\n|user_000017|     m|  22|           Morocco|Aug 27, 2007|             Morocco|\n|user_000018|  null|  22|    United Kingdom|Aug 26, 2005|      United Kingdom|\n|user_000019|     f|  29|            Mexico|Nov 10, 2005|              Mexico|\n|user_000020|     f|  27|           Germany|Jul 24, 2006|             Germany|\n+-----------+------+----+------------------+------------+--------------------+\nonly showing top 20 rows\n",
					"output_type": "stream"
				}
			]
		},
		{
			"cell_type": "markdown",
			"source": "#### El formato de la fecha no es util ni para su almacenamiento ni para el procesamiento basados en cruces basados en el campo de registro\n#### Se necesita formatear la fecha a un formato date util",
			"metadata": {}
		},
		{
			"cell_type": "code",
			"source": "def udf_date_convert(date):\n    def right(s, amount):\n        return s[-amount:]\n    date_split = date.split(\" \")\n    new_date_list = []\n    for i,value in enumerate(date_split):\n        if i == 1:\n            \n            row = '0' + value.replace(\",\",\"\")\n            print(row)\n            row = right(row,2)\n            new_date_list.append(row)\n        \n        else:\n            new_date_list.append(value)  \n    if new_date_list[0] == 'Jan':\n        value = '01'\n    elif new_date_list[0] == 'Feb':\n        value = '02'\n    elif new_date_list[0] == 'Mar':\n        value = '03'\n    elif new_date_list[0] == 'Apr':\n        value = '04'\n    elif new_date_list[0] == 'May':\n        value = '05'\n    elif new_date_list[0] == 'Jun':\n        value = '06'\n    elif new_date_list[0] == 'Jul':\n        value = '07'\n    elif new_date_list[0] == 'Aug':\n        value = '08'\n    elif new_date_list[0] == 'Sep':\n        value = '09'\n    elif new_date_list[0] == 'Oct':\n       value = '10'\n    elif new_date_list[0] == 'Nov':\n        value = '11'\n    elif new_date_list[0] == 'Dec':\n        value = '12'\n    else:\n        value = '00'\n    return new_date_list[1] + '-' + str(value) + '-' + new_date_list[2]\n\nconversion = udf(lambda z: udf_date_convert(z))      \ndf_users_date_conversion = df_users_refined.where(col(\"registered\").isNotNull()).withColumn(\"register_date\",conversion(col(\"registered\")) )\ndf_users_curated = df_users_date_conversion.withColumn(\"registered_date\", to_date(col(\"register_date\"),\"dd-MM-yyyy\")) \ndf_users_curated_final = df_users_curated.drop(\"register_date\").withColumnRenamed(\"registered_date\",\"register_date\")\ndf_users_curated_final.show()",
			"metadata": {
				"trusted": true
			},
			"execution_count": 23,
			"outputs": [
				{
					"name": "stdout",
					"text": "+-----------+------+----+------------------+------------+--------------------+-------------+\n|        #id|gender| age|           country|  registered|        country_name|register_date|\n+-----------+------+----+------------------+------------+--------------------+-------------+\n|user_000001|     m|null|             Japan|Aug 13, 2006|               Japan|   2006-08-13|\n|user_000002|     f|null|              Peru|Feb 24, 2006|                Peru|   2006-02-24|\n|user_000003|     m|  22|     United States|Oct 30, 2005|United States of ...|   2005-10-30|\n|user_000004|     f|null|              null|Apr 26, 2006|                null|   2006-04-26|\n|user_000005|     m|null|          Bulgaria|Jun 29, 2006|            Bulgaria|   2006-06-29|\n|user_000006|  null|  24|Russian Federation|May 18, 2006|              Russia|   2006-05-18|\n|user_000007|     f|null|     United States|Jan 22, 2006|United States of ...|   2006-01-22|\n|user_000008|     m|  23|          Slovakia|Sep 28, 2006|            Slovakia|   2006-09-28|\n|user_000009|     f|  19|     United States|Jan 13, 2007|United States of ...|   2007-01-13|\n|user_000010|     m|  19|            Poland| May 4, 2006|              Poland|   2006-05-04|\n|user_000011|     m|  21|           Finland| Sep 8, 2005|             Finland|   2005-09-08|\n|user_000012|     f|  28|     United States|Mar 30, 2005|United States of ...|   2005-03-30|\n|user_000013|     f|  25|           Romania|Sep 25, 2006|             Romania|   2006-09-25|\n|user_000014|  null|null|              null|Jan 27, 2006|                null|   2006-01-27|\n|user_000015|  null|  21|     Cote D'Ivoire| Oct 3, 2006|       Cote D'Ivoire|   2006-10-03|\n|user_000016|     m|null|    United Kingdom| Aug 5, 2005|      United Kingdom|   2005-08-05|\n|user_000017|     m|  22|           Morocco|Aug 27, 2007|             Morocco|   2007-08-27|\n|user_000018|  null|  22|    United Kingdom|Aug 26, 2005|      United Kingdom|   2005-08-26|\n|user_000019|     f|  29|            Mexico|Nov 10, 2005|              Mexico|   2005-11-10|\n|user_000020|     f|  27|           Germany|Jul 24, 2006|             Germany|   2006-07-24|\n+-----------+------+----+------------------+------------+--------------------+-------------+\nonly showing top 20 rows\n",
					"output_type": "stream"
				}
			]
		},
		{
			"cell_type": "markdown",
			"source": "## Tratar las columnas de hechos de usuarios",
			"metadata": {}
		},
		{
			"cell_type": "markdown",
			"source": "#### Tras una exploración inicial se dan algunos nombres a los campos del fichero",
			"metadata": {}
		},
		{
			"cell_type": "code",
			"source": "df_user_facts_renamed = (\n    df_users_facts\n    .withColumnRenamed(\"_c1\",\"fact_date\")\n    .withColumnRenamed(\"_c0\",\"user_id\")\n    .withColumnRenamed(\"_c3\",\"group_name\")\n    .withColumnRenamed(\"_c2\",\"group_id\")\n    .withColumnRenamed(\"_c5\",\"song_name\")\n    .withColumnRenamed(\"_c4\",\"song_id\")\n)",
			"metadata": {
				"trusted": true
			},
			"execution_count": 25,
			"outputs": [
				{
					"name": "stdout",
					"text": "\n",
					"output_type": "stream"
				}
			]
		},
		{
			"cell_type": "markdown",
			"source": "#### Comprobar que son los campos con un valor hash identificativo",
			"metadata": {}
		},
		{
			"cell_type": "code",
			"source": "df_user_facts_renamed.where(col(\"group_name\")==\"Underworld\").select(\"group_id\",\"group_name\").show(truncate=False)",
			"metadata": {
				"trusted": true
			},
			"execution_count": 16,
			"outputs": [
				{
					"name": "stdout",
					"text": "+------------------------------------+----------+\n|group_id                            |group_name|\n+------------------------------------+----------+\n|ba2f4f3b-0293-4bc8-bb94-2f73b5207343|Underworld|\n|ba2f4f3b-0293-4bc8-bb94-2f73b5207343|Underworld|\n|ba2f4f3b-0293-4bc8-bb94-2f73b5207343|Underworld|\n|ba2f4f3b-0293-4bc8-bb94-2f73b5207343|Underworld|\n|ba2f4f3b-0293-4bc8-bb94-2f73b5207343|Underworld|\n|ba2f4f3b-0293-4bc8-bb94-2f73b5207343|Underworld|\n|ba2f4f3b-0293-4bc8-bb94-2f73b5207343|Underworld|\n|ba2f4f3b-0293-4bc8-bb94-2f73b5207343|Underworld|\n|ba2f4f3b-0293-4bc8-bb94-2f73b5207343|Underworld|\n|ba2f4f3b-0293-4bc8-bb94-2f73b5207343|Underworld|\n|ba2f4f3b-0293-4bc8-bb94-2f73b5207343|Underworld|\n|ba2f4f3b-0293-4bc8-bb94-2f73b5207343|Underworld|\n|ba2f4f3b-0293-4bc8-bb94-2f73b5207343|Underworld|\n|ba2f4f3b-0293-4bc8-bb94-2f73b5207343|Underworld|\n|ba2f4f3b-0293-4bc8-bb94-2f73b5207343|Underworld|\n|ba2f4f3b-0293-4bc8-bb94-2f73b5207343|Underworld|\n|ba2f4f3b-0293-4bc8-bb94-2f73b5207343|Underworld|\n|ba2f4f3b-0293-4bc8-bb94-2f73b5207343|Underworld|\n|ba2f4f3b-0293-4bc8-bb94-2f73b5207343|Underworld|\n|ba2f4f3b-0293-4bc8-bb94-2f73b5207343|Underworld|\n+------------------------------------+----------+\nonly showing top 20 rows\n",
					"output_type": "stream"
				}
			]
		},
		{
			"cell_type": "code",
			"source": "df_user_facts_renamed.where(col(\"group_name\")==\"Underworld\").select(\"group_id\").distinct().show(truncate=False)",
			"metadata": {
				"trusted": true
			},
			"execution_count": 17,
			"outputs": [
				{
					"name": "stdout",
					"text": "+------------------------------------+\n|group_id                            |\n+------------------------------------+\n|ba2f4f3b-0293-4bc8-bb94-2f73b5207343|\n+------------------------------------+\n",
					"output_type": "stream"
				}
			]
		},
		{
			"cell_type": "code",
			"source": "df_user_facts_renamed.where(col(\"song_name\")==\"Elysian Fields\").select(\"song_id\",\"song_name\",\"group_name\").show(truncate=False)",
			"metadata": {
				"trusted": true
			},
			"execution_count": 22,
			"outputs": [
				{
					"name": "stdout",
					"text": "+------------------------------------+--------------+----------+\n|song_id                             |song_name     |group_name|\n+------------------------------------+--------------+----------+\n|4e78efc4-e545-47af-9617-05ff816d86e2|Elysian Fields|Minus 8   |\n|4e78efc4-e545-47af-9617-05ff816d86e2|Elysian Fields|Minus 8   |\n|4e78efc4-e545-47af-9617-05ff816d86e2|Elysian Fields|Minus 8   |\n|4e78efc4-e545-47af-9617-05ff816d86e2|Elysian Fields|Minus 8   |\n|4e78efc4-e545-47af-9617-05ff816d86e2|Elysian Fields|Minus 8   |\n|4e78efc4-e545-47af-9617-05ff816d86e2|Elysian Fields|Minus 8   |\n|4e78efc4-e545-47af-9617-05ff816d86e2|Elysian Fields|Minus 8   |\n|97c6a228-9cfc-4d89-af47-f280bf825bdc|Elysian Fields|Artemis   |\n|057734be-6fc5-4b11-9466-06aea1a457a5|Elysian Fields|Monosphere|\n|de86bd86-debd-4774-8c30-5a3caefa6275|Elysian Fields|Megadeth  |\n|4e78efc4-e545-47af-9617-05ff816d86e2|Elysian Fields|Minus 8   |\n|4e78efc4-e545-47af-9617-05ff816d86e2|Elysian Fields|Minus 8   |\n|4e78efc4-e545-47af-9617-05ff816d86e2|Elysian Fields|Minus 8   |\n|4e78efc4-e545-47af-9617-05ff816d86e2|Elysian Fields|Minus 8   |\n|4e78efc4-e545-47af-9617-05ff816d86e2|Elysian Fields|Minus 8   |\n|4e78efc4-e545-47af-9617-05ff816d86e2|Elysian Fields|Minus 8   |\n|4e78efc4-e545-47af-9617-05ff816d86e2|Elysian Fields|Minus 8   |\n|4e78efc4-e545-47af-9617-05ff816d86e2|Elysian Fields|Minus 8   |\n|4e78efc4-e545-47af-9617-05ff816d86e2|Elysian Fields|Minus 8   |\n|4e78efc4-e545-47af-9617-05ff816d86e2|Elysian Fields|Minus 8   |\n+------------------------------------+--------------+----------+\nonly showing top 20 rows\n",
					"output_type": "stream"
				}
			]
		},
		{
			"cell_type": "code",
			"source": "df_user_facts_renamed.show(truncate=False)",
			"metadata": {
				"trusted": true
			},
			"execution_count": 27,
			"outputs": [
				{
					"name": "stdout",
					"text": "+-----------+--------------------+------------------------------------+---------------+------------------------------------+------------------------------------------+\n|user_id    |fact_date           |group_id                            |group_name     |song_id                             |song_name                                 |\n+-----------+--------------------+------------------------------------+---------------+------------------------------------+------------------------------------------+\n|user_000001|2009-05-04T23:08:57Z|f1b1cf71-bd35-4e99-8624-24a6e15f133a|Deep Dish      |null                                |Fuck Me Im Famous (Pacha Ibiza)-09-28-2007|\n|user_000001|2009-05-04T13:54:10Z|a7f7df4a-77d8-4f12-8acd-5c60c93f4de8|坂本龍一       |null                                |Composition 0919 (Live_2009_4_15)         |\n|user_000001|2009-05-04T13:52:04Z|a7f7df4a-77d8-4f12-8acd-5c60c93f4de8|坂本龍一       |null                                |Mc2 (Live_2009_4_15)                      |\n|user_000001|2009-05-04T13:42:52Z|a7f7df4a-77d8-4f12-8acd-5c60c93f4de8|坂本龍一       |null                                |Hibari (Live_2009_4_15)                   |\n|user_000001|2009-05-04T13:42:11Z|a7f7df4a-77d8-4f12-8acd-5c60c93f4de8|坂本龍一       |null                                |Mc1 (Live_2009_4_15)                      |\n|user_000001|2009-05-04T13:38:31Z|a7f7df4a-77d8-4f12-8acd-5c60c93f4de8|坂本龍一       |null                                |To Stanford (Live_2009_4_15)              |\n|user_000001|2009-05-04T13:33:28Z|a7f7df4a-77d8-4f12-8acd-5c60c93f4de8|坂本龍一       |null                                |Improvisation (Live_2009_4_15)            |\n|user_000001|2009-05-04T13:23:45Z|a7f7df4a-77d8-4f12-8acd-5c60c93f4de8|坂本龍一       |null                                |Glacier (Live_2009_4_15)                  |\n|user_000001|2009-05-04T13:19:22Z|a7f7df4a-77d8-4f12-8acd-5c60c93f4de8|坂本龍一       |null                                |Parolibre (Live_2009_4_15)                |\n|user_000001|2009-05-04T13:13:38Z|a7f7df4a-77d8-4f12-8acd-5c60c93f4de8|坂本龍一       |null                                |Bibo No Aozora (Live_2009_4_15)           |\n|user_000001|2009-05-04T13:06:09Z|a7f7df4a-77d8-4f12-8acd-5c60c93f4de8|坂本龍一       |f7c1f8f8-b935-45ed-8fc8-7def69d92a10|The Last Emperor (Theme)                  |\n|user_000001|2009-05-04T13:00:48Z|a7f7df4a-77d8-4f12-8acd-5c60c93f4de8|坂本龍一       |null                                |Happyend (Live_2009_4_15)                 |\n|user_000001|2009-05-04T12:55:34Z|a7f7df4a-77d8-4f12-8acd-5c60c93f4de8|坂本龍一       |475d4e50-cebb-4cd0-8cd4-c3df97987962|Tibetan Dance (Version)                   |\n|user_000001|2009-05-04T12:51:26Z|a7f7df4a-77d8-4f12-8acd-5c60c93f4de8|坂本龍一       |null                                |Behind The Mask (Live_2009_4_15)          |\n|user_000001|2009-05-03T15:48:25Z|ba2f4f3b-0293-4bc8-bb94-2f73b5207343|Underworld     |dc394163-2b78-4b56-94e4-658597a29ef8|Boy, Boy, Boy (Switch Remix)              |\n|user_000001|2009-05-03T15:37:56Z|ba2f4f3b-0293-4bc8-bb94-2f73b5207343|Underworld     |340d9a0b-9a43-4098-b116-9f79811bd508|Crocodile (Innervisions Orchestra Mix)    |\n|user_000001|2009-05-03T15:14:53Z|a16e47f5-aa54-47fe-87e4-bb8af91a9fdd|Ennio Morricone|0b04407b-f517-4e00-9e6a-494795efc73e|Ninna Nanna In Blu (Raw Deal Remix)       |\n|user_000001|2009-05-03T15:10:18Z|463a94f1-2713-40b1-9c88-dcc9c0170cae|Minus 8        |4e78efc4-e545-47af-9617-05ff816d86e2|Elysian Fields                            |\n|user_000001|2009-05-03T15:04:31Z|ad0811ea-e213-451d-b22f-fa1a7f9e0226|Beanfield      |fb51d2c4-cc69-4128-92f5-77ec38d66859|Planetary Deadlock                        |\n|user_000001|2009-05-03T14:56:25Z|309e2dfc-678e-4d09-a7a4-8eab9525b669|Dj Linus       |4277434f-e3c2-41ae-9ce3-23fd157f9347|Good Morning Love Coffee Is Ready         |\n+-----------+--------------------+------------------------------------+---------------+------------------------------------+------------------------------------------+\nonly showing top 20 rows\n",
					"output_type": "stream"
				}
			]
		},
		{
			"cell_type": "markdown",
			"source": "#### Todos los campos de fecha del hecho vienen informados\n#### Es util guardarlos en un formato timestamp para optimizar almacenamiento y procesamiento",
			"metadata": {}
		},
		{
			"cell_type": "code",
			"source": "(\n    df_user_facts_renamed\n    .where(col(\"fact_date\").isNull())\n    .show(truncate=False)\n)",
			"metadata": {
				"trusted": true
			},
			"execution_count": 28,
			"outputs": [
				{
					"name": "stdout",
					"text": "+-------+---------+--------+----------+-------+---------+\n|user_id|fact_date|group_id|group_name|song_id|song_name|\n+-------+---------+--------+----------+-------+---------+\n+-------+---------+--------+----------+-------+---------+\n",
					"output_type": "stream"
				}
			]
		},
		{
			"cell_type": "code",
			"source": "df_user_facts_formatted_date = (\n        df_user_facts_renamed\n        .select(\"*\", to_timestamp(\"fact_date\").alias(\"fact_timestamp\"))\n)",
			"metadata": {
				"trusted": true
			},
			"execution_count": 26,
			"outputs": [
				{
					"name": "stdout",
					"text": "\n",
					"output_type": "stream"
				}
			]
		},
		{
			"cell_type": "code",
			"source": "df_user_facts_formatted_date.show()",
			"metadata": {
				"trusted": true
			},
			"execution_count": 31,
			"outputs": [
				{
					"name": "stdout",
					"text": "+-----------+--------------------+--------------------+---------------+--------------------+--------------------+-------------------+\n|    user_id|           fact_date|            group_id|     group_name|             song_id|           song_name|     fact_timestamp|\n+-----------+--------------------+--------------------+---------------+--------------------+--------------------+-------------------+\n|user_000001|2009-05-04T23:08:57Z|f1b1cf71-bd35-4e9...|      Deep Dish|                null|Fuck Me Im Famous...|2009-05-04 23:08:57|\n|user_000001|2009-05-04T13:54:10Z|a7f7df4a-77d8-4f1...|       坂本龍一|                null|Composition 0919 ...|2009-05-04 13:54:10|\n|user_000001|2009-05-04T13:52:04Z|a7f7df4a-77d8-4f1...|       坂本龍一|                null|Mc2 (Live_2009_4_15)|2009-05-04 13:52:04|\n|user_000001|2009-05-04T13:42:52Z|a7f7df4a-77d8-4f1...|       坂本龍一|                null|Hibari (Live_2009...|2009-05-04 13:42:52|\n|user_000001|2009-05-04T13:42:11Z|a7f7df4a-77d8-4f1...|       坂本龍一|                null|Mc1 (Live_2009_4_15)|2009-05-04 13:42:11|\n|user_000001|2009-05-04T13:38:31Z|a7f7df4a-77d8-4f1...|       坂本龍一|                null|To Stanford (Live...|2009-05-04 13:38:31|\n|user_000001|2009-05-04T13:33:28Z|a7f7df4a-77d8-4f1...|       坂本龍一|                null|Improvisation (Li...|2009-05-04 13:33:28|\n|user_000001|2009-05-04T13:23:45Z|a7f7df4a-77d8-4f1...|       坂本龍一|                null|Glacier (Live_200...|2009-05-04 13:23:45|\n|user_000001|2009-05-04T13:19:22Z|a7f7df4a-77d8-4f1...|       坂本龍一|                null|Parolibre (Live_2...|2009-05-04 13:19:22|\n|user_000001|2009-05-04T13:13:38Z|a7f7df4a-77d8-4f1...|       坂本龍一|                null|Bibo No Aozora (L...|2009-05-04 13:13:38|\n|user_000001|2009-05-04T13:06:09Z|a7f7df4a-77d8-4f1...|       坂本龍一|f7c1f8f8-b935-45e...|The Last Emperor ...|2009-05-04 13:06:09|\n|user_000001|2009-05-04T13:00:48Z|a7f7df4a-77d8-4f1...|       坂本龍一|                null|Happyend (Live_20...|2009-05-04 13:00:48|\n|user_000001|2009-05-04T12:55:34Z|a7f7df4a-77d8-4f1...|       坂本龍一|475d4e50-cebb-4cd...|Tibetan Dance (Ve...|2009-05-04 12:55:34|\n|user_000001|2009-05-04T12:51:26Z|a7f7df4a-77d8-4f1...|       坂本龍一|                null|Behind The Mask (...|2009-05-04 12:51:26|\n|user_000001|2009-05-03T15:48:25Z|ba2f4f3b-0293-4bc...|     Underworld|dc394163-2b78-4b5...|Boy, Boy, Boy (Sw...|2009-05-03 15:48:25|\n|user_000001|2009-05-03T15:37:56Z|ba2f4f3b-0293-4bc...|     Underworld|340d9a0b-9a43-409...|Crocodile (Innerv...|2009-05-03 15:37:56|\n|user_000001|2009-05-03T15:14:53Z|a16e47f5-aa54-47f...|Ennio Morricone|0b04407b-f517-4e0...|Ninna Nanna In Bl...|2009-05-03 15:14:53|\n|user_000001|2009-05-03T15:10:18Z|463a94f1-2713-40b...|        Minus 8|4e78efc4-e545-47a...|      Elysian Fields|2009-05-03 15:10:18|\n|user_000001|2009-05-03T15:04:31Z|ad0811ea-e213-451...|      Beanfield|fb51d2c4-cc69-412...|  Planetary Deadlock|2009-05-03 15:04:31|\n|user_000001|2009-05-03T14:56:25Z|309e2dfc-678e-4d0...|       Dj Linus|4277434f-e3c2-41a...|Good Morning Love...|2009-05-03 14:56:25|\n+-----------+--------------------+--------------------+---------------+--------------------+--------------------+-------------------+\nonly showing top 20 rows\n",
					"output_type": "stream"
				}
			]
		},
		{
			"cell_type": "code",
			"source": "(\n    df_user_facts_formatted_date\n    .where(col(\"fact_timestamp\").isNull())\n    .show(truncate=False)\n)",
			"metadata": {
				"trusted": true
			},
			"execution_count": 27,
			"outputs": [
				{
					"name": "stdout",
					"text": "+-------+---------+--------+----------+-------+---------+--------------+\n|user_id|fact_date|group_id|group_name|song_id|song_name|fact_timestamp|\n+-------+---------+--------+----------+-------+---------+--------------+\n+-------+---------+--------+----------+-------+---------+--------------+\n",
					"output_type": "stream"
				}
			]
		},
		{
			"cell_type": "markdown",
			"source": "#### Conteo de hechos por usuario",
			"metadata": {}
		},
		{
			"cell_type": "code",
			"source": "(\n    df_user_facts_formatted_date\n    .groupBy(\"user_id\")\n    .agg(count(\"user_id\").alias(\"total_facts\"))\n    .select(\"user_id\",\"total_facts\")\n    .show()\n)",
			"metadata": {
				"trusted": true
			},
			"execution_count": 32,
			"outputs": [
				{
					"name": "stdout",
					"text": "+-----------+-----------+\n|    user_id|total_facts|\n+-----------+-----------+\n|user_000064|      34028|\n|user_000066|       1109|\n|user_000149|      71734|\n|user_000272|        100|\n|user_000468|      13971|\n|user_000482|      46291|\n|user_000577|      80313|\n|user_000688|       5846|\n|user_000803|      22006|\n|user_000832|      11874|\n|user_000878|      27344|\n|user_000890|      16696|\n|user_000922|       3180|\n|user_000098|        300|\n|user_000113|      21896|\n|user_000219|      27377|\n|user_000424|       3700|\n|user_000613|       5296|\n|user_000708|      11457|\n|user_000709|      93498|\n+-----------+-----------+\nonly showing top 20 rows\n",
					"output_type": "stream"
				}
			]
		},
		{
			"cell_type": "markdown",
			"source": "#### Conteno de null por nombres de cancion\n##### Existe un hecho con un nombre de cancion a null\n##### Como el nombre del grupo de la cancion si se mantiene se mantiene el registro por si puede ser util para el cliente",
			"metadata": {}
		},
		{
			"cell_type": "code",
			"source": "(\n    df_user_facts_formatted_date\n    .where(col(\"song_name\").isNull())\n    .show(truncate=False)\n)",
			"metadata": {
				"trusted": true
			},
			"execution_count": 34,
			"outputs": [
				{
					"name": "stdout",
					"text": "+-----------+--------------------+--------+------------------------------------------------------+-------+---------+-------------------+\n|user_id    |fact_date           |group_id|group_name                                            |song_id|song_name|fact_timestamp     |\n+-----------+--------------------+--------+------------------------------------------------------+-------+---------+-------------------+\n|user_000585|2009-01-14T03:56:02Z|null    |Silence'' Foundation Laboratory (Silentpoets)\t\tOutline|null   |null     |2009-01-14 03:56:02|\n+-----------+--------------------+--------+------------------------------------------------------+-------+---------+-------------------+\n",
					"output_type": "stream"
				}
			]
		},
		{
			"cell_type": "markdown",
			"source": "#### Conteno de null por grupos\n##### Todos los grupos vienen bien informados por lo que no es necesario hacer nada",
			"metadata": {}
		},
		{
			"cell_type": "code",
			"source": "(\n    df_user_facts_formatted_date\n    .where(col(\"group_name\").isNull())\n    .show(truncate=False)\n)",
			"metadata": {
				"trusted": true
			},
			"execution_count": 35,
			"outputs": [
				{
					"name": "stdout",
					"text": "+-------+---------+--------+----------+-------+---------+--------------+\n|user_id|fact_date|group_id|group_name|song_id|song_name|fact_timestamp|\n+-------+---------+--------+----------+-------+---------+--------------+\n+-------+---------+--------+----------+-------+---------+--------------+\n",
					"output_type": "stream"
				}
			]
		},
		{
			"cell_type": "markdown",
			"source": "### Como se ha visto, hay usuarios sin valores utiles, 8 concretamente\n#### Estos usuarios serán eliminados del dataset de users por lo que es conveniente eliminar sus hechos, ya que no aportan valor\n#### Generar una lista a partir del dataframes con usuarios que no tienen valores en la dimension para despues filtrar",
			"metadata": {}
		},
		{
			"cell_type": "code",
			"source": "user_list_withtout_values = (\n    df_users_without_values\n    .select(\"#id\")\n    .collect()\n)\nlist_users_to_clean = []\nfor row in user_list_withtout_values:\n   list_users_to_clean.append((row.asDict()[\"#id\"]))\nlist_users_to_clean",
			"metadata": {
				"trusted": true
			},
			"execution_count": 14,
			"outputs": [
				{
					"name": "stdout",
					"text": "['user_000030', 'user_000129', 'user_000174', 'user_000353', 'user_000588', 'user_000734', 'user_000806', 'user_000976']\n",
					"output_type": "stream"
				}
			]
		},
		{
			"cell_type": "code",
			"source": "df_filter_users_not_valid = (\n    df_user_facts_formatted_date\n    .where(~col(\"user_id\").isin(list_users_to_clean))\n)\n",
			"metadata": {
				"trusted": true
			},
			"execution_count": 15,
			"outputs": [
				{
					"name": "stdout",
					"text": "\n",
					"output_type": "stream"
				}
			]
		},
		{
			"cell_type": "code",
			"source": "df_facts_user_curated = (\n    df_filter_users_not_valid\n    .withColumn(\"year\",year(col(\"fact_timestamp\")))\n    .withColumn(\"month\",month(col(\"fact_timestamp\")))\n)",
			"metadata": {
				"trusted": true
			},
			"execution_count": 19,
			"outputs": [
				{
					"name": "stdout",
					"text": "\n",
					"output_type": "stream"
				}
			]
		},
		{
			"cell_type": "code",
			"source": "count_bef_filter = df_user_facts_formatted_date.count()\ncount_aft_filter = df_filter_users_not_valid.count()\nprint(f\"Antes del filtro {count_bef_filter} Despues del filtro {count_aft_filter}\")",
			"metadata": {
				"trusted": true
			},
			"execution_count": 16,
			"outputs": [
				{
					"name": "stdout",
					"text": "Antes del filtro 19150868 Despues del filtro 18994495\n",
					"output_type": "stream"
				}
			]
		},
		{
			"cell_type": "markdown",
			"source": "### Dimension de usuarios",
			"metadata": {}
		},
		{
			"cell_type": "markdown",
			"source": "### Dimension de paises",
			"metadata": {}
		},
		{
			"cell_type": "markdown",
			"source": "### Hechos de usuarios",
			"metadata": {}
		},
		{
			"cell_type": "code",
			"source": "",
			"metadata": {},
			"execution_count": null,
			"outputs": []
		}
	]
}